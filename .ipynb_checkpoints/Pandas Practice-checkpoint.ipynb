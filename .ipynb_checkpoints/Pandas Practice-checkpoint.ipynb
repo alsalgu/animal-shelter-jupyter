{
 "cells": [
  {
   "cell_type": "code",
   "execution_count": 10,
   "metadata": {},
   "outputs": [
    {
     "data": {
      "text/html": [
       "<div>\n",
       "<style scoped>\n",
       "    .dataframe tbody tr th:only-of-type {\n",
       "        vertical-align: middle;\n",
       "    }\n",
       "\n",
       "    .dataframe tbody tr th {\n",
       "        vertical-align: top;\n",
       "    }\n",
       "\n",
       "    .dataframe thead th {\n",
       "        text-align: right;\n",
       "    }\n",
       "</style>\n",
       "<table border=\"1\" class=\"dataframe\">\n",
       "  <thead>\n",
       "    <tr style=\"text-align: right;\">\n",
       "      <th></th>\n",
       "      <th>name</th>\n",
       "      <th>gender</th>\n",
       "      <th>age</th>\n",
       "      <th>height(cm)</th>\n",
       "      <th>weight(lbs)</th>\n",
       "    </tr>\n",
       "  </thead>\n",
       "  <tbody>\n",
       "    <tr>\n",
       "      <th>0</th>\n",
       "      <td>Jesse</td>\n",
       "      <td>Male</td>\n",
       "      <td>26.0</td>\n",
       "      <td>177</td>\n",
       "      <td>160</td>\n",
       "    </tr>\n",
       "    <tr>\n",
       "      <th>1</th>\n",
       "      <td>Felix</td>\n",
       "      <td>Male</td>\n",
       "      <td>1.5</td>\n",
       "      <td>83</td>\n",
       "      <td>25</td>\n",
       "    </tr>\n",
       "    <tr>\n",
       "      <th>2</th>\n",
       "      <td>Al</td>\n",
       "      <td>Female</td>\n",
       "      <td>27.0</td>\n",
       "      <td>157</td>\n",
       "      <td>127</td>\n",
       "    </tr>\n",
       "  </tbody>\n",
       "</table>\n",
       "</div>"
      ],
      "text/plain": [
       "    name  gender   age  height(cm)  weight(lbs)\n",
       "0  Jesse    Male  26.0         177          160\n",
       "1  Felix    Male   1.5          83           25\n",
       "2     Al  Female  27.0         157          127"
      ]
     },
     "execution_count": 10,
     "metadata": {},
     "output_type": "execute_result"
    }
   ],
   "source": [
    "import pandas as pd\n",
    "from matplotlib import pyplot as plt\n",
    "import seaborn as sns\n",
    "%matplotlib inline\n",
    "\n",
    "# Creates a DataFrame where index is a column, and the values are each row.\n",
    "df = pd.DataFrame({\"name\": ['Jesse', 'Felix', 'Al'],\n",
    "                    \"gender\": ['Male', 'Male', 'Female'],\n",
    "                    \"age\": [26, 1.5, 27],\n",
    "                    \"height(cm)\": [177, 83, 157],\n",
    "                    \"weight(lbs)\": [160, 25, 127]})\n",
    "\n",
    "# Displays the first five rows in a table\n",
    "df.head()\n",
    "# Gets the mean of columns that have only numerical values.\n",
    "averages = df.mean()\n",
    "df.head()"
   ]
  },
  {
   "cell_type": "code",
   "execution_count": 15,
   "metadata": {},
   "outputs": [
    {
     "data": {
      "text/plain": [
       "name           Jesse\n",
       "gender          Male\n",
       "age               26\n",
       "height(cm)       177\n",
       "weight(lbs)      160\n",
       "Name: 0, dtype: object"
      ]
     },
     "execution_count": 15,
     "metadata": {},
     "output_type": "execute_result"
    }
   ],
   "source": [
    "# Selecting Row at Index 0\n",
    "df.loc[0]"
   ]
  },
  {
   "cell_type": "code",
   "execution_count": 16,
   "metadata": {},
   "outputs": [],
   "source": [
    "# Alternative way to fill in information in panda DataFrame\n",
    "ridership_df = pd.DataFrame(\n",
    "    data=[[   0,    0,    2,    5,    0],\n",
    "          [1478, 3877, 3674, 2328, 2539],\n",
    "          [1613, 4088, 3991, 6461, 2691],\n",
    "          [1560, 3392, 3826, 4787, 2613],\n",
    "          [1608, 4802, 3932, 4477, 2705],\n",
    "          [1576, 3933, 3909, 4979, 2685],\n",
    "          [  95,  229,  255,  496,  201],\n",
    "          [   2,    0,    1,   27,    0],\n",
    "          [1438, 3785, 3589, 4174, 2215],\n",
    "          [1342, 4043, 4009, 4665, 3033]],\n",
    "    index=['05-01-11', '05-02-11', '05-03-11', '05-04-11', '05-05-11',\n",
    "           '05-06-11', '05-07-11', '05-08-11', '05-09-11', '05-10-11'],\n",
    "    columns=['R003', 'R004', 'R005', 'R006', 'R007']\n",
    ")"
   ]
  },
  {
   "cell_type": "code",
   "execution_count": 17,
   "metadata": {},
   "outputs": [
    {
     "data": {
      "text/html": [
       "<div>\n",
       "<style scoped>\n",
       "    .dataframe tbody tr th:only-of-type {\n",
       "        vertical-align: middle;\n",
       "    }\n",
       "\n",
       "    .dataframe tbody tr th {\n",
       "        vertical-align: top;\n",
       "    }\n",
       "\n",
       "    .dataframe thead th {\n",
       "        text-align: right;\n",
       "    }\n",
       "</style>\n",
       "<table border=\"1\" class=\"dataframe\">\n",
       "  <thead>\n",
       "    <tr style=\"text-align: right;\">\n",
       "      <th></th>\n",
       "      <th>R003</th>\n",
       "      <th>R004</th>\n",
       "      <th>R005</th>\n",
       "      <th>R006</th>\n",
       "      <th>R007</th>\n",
       "    </tr>\n",
       "  </thead>\n",
       "  <tbody>\n",
       "    <tr>\n",
       "      <th>05-01-11</th>\n",
       "      <td>0</td>\n",
       "      <td>0</td>\n",
       "      <td>2</td>\n",
       "      <td>5</td>\n",
       "      <td>0</td>\n",
       "    </tr>\n",
       "    <tr>\n",
       "      <th>05-02-11</th>\n",
       "      <td>1478</td>\n",
       "      <td>3877</td>\n",
       "      <td>3674</td>\n",
       "      <td>2328</td>\n",
       "      <td>2539</td>\n",
       "    </tr>\n",
       "    <tr>\n",
       "      <th>05-03-11</th>\n",
       "      <td>1613</td>\n",
       "      <td>4088</td>\n",
       "      <td>3991</td>\n",
       "      <td>6461</td>\n",
       "      <td>2691</td>\n",
       "    </tr>\n",
       "    <tr>\n",
       "      <th>05-04-11</th>\n",
       "      <td>1560</td>\n",
       "      <td>3392</td>\n",
       "      <td>3826</td>\n",
       "      <td>4787</td>\n",
       "      <td>2613</td>\n",
       "    </tr>\n",
       "    <tr>\n",
       "      <th>05-05-11</th>\n",
       "      <td>1608</td>\n",
       "      <td>4802</td>\n",
       "      <td>3932</td>\n",
       "      <td>4477</td>\n",
       "      <td>2705</td>\n",
       "    </tr>\n",
       "  </tbody>\n",
       "</table>\n",
       "</div>"
      ],
      "text/plain": [
       "          R003  R004  R005  R006  R007\n",
       "05-01-11     0     0     2     5     0\n",
       "05-02-11  1478  3877  3674  2328  2539\n",
       "05-03-11  1613  4088  3991  6461  2691\n",
       "05-04-11  1560  3392  3826  4787  2613\n",
       "05-05-11  1608  4802  3932  4477  2705"
      ]
     },
     "execution_count": 17,
     "metadata": {},
     "output_type": "execute_result"
    }
   ],
   "source": [
    "ridership_df.head()"
   ]
  },
  {
   "cell_type": "code",
   "execution_count": 22,
   "metadata": {},
   "outputs": [
    {
     "data": {
      "text/html": [
       "<div>\n",
       "<style scoped>\n",
       "    .dataframe tbody tr th:only-of-type {\n",
       "        vertical-align: middle;\n",
       "    }\n",
       "\n",
       "    .dataframe tbody tr th {\n",
       "        vertical-align: top;\n",
       "    }\n",
       "\n",
       "    .dataframe thead th {\n",
       "        text-align: right;\n",
       "    }\n",
       "</style>\n",
       "<table border=\"1\" class=\"dataframe\">\n",
       "  <thead>\n",
       "    <tr style=\"text-align: right;\">\n",
       "      <th></th>\n",
       "      <th>Genre</th>\n",
       "      <th>Console</th>\n",
       "      <th>Hero</th>\n",
       "      <th>Villain</th>\n",
       "      <th>Release Year</th>\n",
       "      <th>Units Sold (millions)</th>\n",
       "      <th>Designer</th>\n",
       "    </tr>\n",
       "  </thead>\n",
       "  <tbody>\n",
       "    <tr>\n",
       "      <th>Mario</th>\n",
       "      <td>Platformer</td>\n",
       "      <td>NES</td>\n",
       "      <td>Super Mario</td>\n",
       "      <td>Bowser</td>\n",
       "      <td>1985</td>\n",
       "      <td>40.00</td>\n",
       "      <td>Shigeru Miyamoto</td>\n",
       "    </tr>\n",
       "    <tr>\n",
       "      <th>Starfox</th>\n",
       "      <td>Rail-Shooter</td>\n",
       "      <td>SNES</td>\n",
       "      <td>Fox McCloud</td>\n",
       "      <td>Andross</td>\n",
       "      <td>1993</td>\n",
       "      <td>4.00</td>\n",
       "      <td>Katsuya Eguchi</td>\n",
       "    </tr>\n",
       "    <tr>\n",
       "      <th>Zelda</th>\n",
       "      <td>Adventure</td>\n",
       "      <td>NES</td>\n",
       "      <td>Link</td>\n",
       "      <td>Ganon</td>\n",
       "      <td>1986</td>\n",
       "      <td>6.51</td>\n",
       "      <td>Shigeru Miyamoto</td>\n",
       "    </tr>\n",
       "    <tr>\n",
       "      <th>Animal Crossing</th>\n",
       "      <td>Simulation</td>\n",
       "      <td>N64</td>\n",
       "      <td>Player</td>\n",
       "      <td>Debt</td>\n",
       "      <td>2001</td>\n",
       "      <td>2.00</td>\n",
       "      <td>Katsuya Eguchi</td>\n",
       "    </tr>\n",
       "  </tbody>\n",
       "</table>\n",
       "</div>"
      ],
      "text/plain": [
       "                        Genre Console         Hero  Villain  Release Year  \\\n",
       "Mario              Platformer     NES  Super Mario   Bowser          1985   \n",
       "Starfox          Rail-Shooter    SNES  Fox McCloud  Andross          1993   \n",
       "Zelda               Adventure     NES         Link    Ganon          1986   \n",
       "Animal Crossing    Simulation     N64       Player     Debt          2001   \n",
       "\n",
       "                 Units Sold (millions)          Designer  \n",
       "Mario                            40.00  Shigeru Miyamoto  \n",
       "Starfox                           4.00    Katsuya Eguchi  \n",
       "Zelda                             6.51  Shigeru Miyamoto  \n",
       "Animal Crossing                   2.00    Katsuya Eguchi  "
      ]
     },
     "execution_count": 22,
     "metadata": {},
     "output_type": "execute_result"
    }
   ],
   "source": [
    "# Lets make our own array using... a game franchise and its details\n",
    "# columns= [Genre, Console, Protagonist, Antagonist, First Release, Millions Sold, Creator]\n",
    "# index= [Mario, Starfox, Zelda, Animal Crossing]\n",
    "# data=[]\n",
    "\n",
    "nintendo_df = pd.DataFrame(data=[['Platformer', 'NES', 'Super Mario', 'Bowser', 1985, 40, 'Shigeru Miyamoto'],\n",
    "                                ['Rail-Shooter', 'SNES', 'Fox McCloud', 'Andross', 1993, 4, 'Katsuya Eguchi'],\n",
    "                                ['Adventure', 'NES', 'Link', 'Ganon', 1986, 6.51, 'Shigeru Miyamoto'],\n",
    "                                ['Simulation', 'N64', 'Player', 'Debt', 2001, 2, 'Katsuya Eguchi']],\n",
    "                          index=['Mario', 'Starfox', 'Zelda', 'Animal Crossing'],\n",
    "                          columns=['Genre', 'Console', 'Hero', 'Villain', 'Release Year', 'Units Sold (millions)', 'Designer'])\n",
    "\n",
    "nintendo_df.head()"
   ]
  },
  {
   "cell_type": "code",
   "execution_count": 25,
   "metadata": {},
   "outputs": [
    {
     "name": "stdout",
     "output_type": "stream",
     "text": [
      "Genre                          Platformer\n",
      "Console                               NES\n",
      "Hero                          Super Mario\n",
      "Villain                            Bowser\n",
      "Release Year                         1985\n",
      "Units Sold (millions)                  40\n",
      "Designer                 Shigeru Miyamoto\n",
      "Name: Mario, dtype: object\n"
     ]
    }
   ],
   "source": [
    "# Accessing Elements\n",
    "print(nintendo_df.iloc[0])"
   ]
  },
  {
   "cell_type": "code",
   "execution_count": 26,
   "metadata": {},
   "outputs": [
    {
     "name": "stdout",
     "output_type": "stream",
     "text": [
      "Genre                          Platformer\n",
      "Console                               NES\n",
      "Hero                          Super Mario\n",
      "Villain                            Bowser\n",
      "Release Year                         1985\n",
      "Units Sold (millions)                  40\n",
      "Designer                 Shigeru Miyamoto\n",
      "Name: Mario, dtype: object\n"
     ]
    }
   ],
   "source": [
    "print(nintendo_df.loc['Mario'])"
   ]
  },
  {
   "cell_type": "code",
   "execution_count": 27,
   "metadata": {},
   "outputs": [
    {
     "name": "stdout",
     "output_type": "stream",
     "text": [
      "Mario                Platformer\n",
      "Starfox            Rail-Shooter\n",
      "Zelda                 Adventure\n",
      "Animal Crossing      Simulation\n",
      "Name: Genre, dtype: object\n"
     ]
    }
   ],
   "source": [
    "print(nintendo_df['Genre'])"
   ]
  },
  {
   "cell_type": "code",
   "execution_count": 28,
   "metadata": {},
   "outputs": [
    {
     "name": "stdout",
     "output_type": "stream",
     "text": [
      "Andross\n"
     ]
    }
   ],
   "source": [
    "print(nintendo_df.iloc[1, 3])"
   ]
  },
  {
   "cell_type": "code",
   "execution_count": 31,
   "metadata": {},
   "outputs": [
    {
     "name": "stdout",
     "output_type": "stream",
     "text": [
      "                Genre Console         Hero  Villain  Release Year  \\\n",
      "Starfox  Rail-Shooter    SNES  Fox McCloud  Andross          1993   \n",
      "Zelda       Adventure     NES         Link    Ganon          1986   \n",
      "\n",
      "         Units Sold (millions)          Designer  \n",
      "Starfox                   4.00    Katsuya Eguchi  \n",
      "Zelda                     6.51  Shigeru Miyamoto  \n"
     ]
    }
   ],
   "source": [
    "# Multiple Rows\n",
    "print(nintendo_df.iloc[1:3])"
   ]
  },
  {
   "cell_type": "code",
   "execution_count": 33,
   "metadata": {},
   "outputs": [
    {
     "name": "stdout",
     "output_type": "stream",
     "text": [
      "                        Genre Console\n",
      "Mario              Platformer     NES\n",
      "Starfox          Rail-Shooter    SNES\n",
      "Zelda               Adventure     NES\n",
      "Animal Crossing    Simulation     N64\n"
     ]
    }
   ],
   "source": [
    "# Multiple Columns\n",
    "print(nintendo_df[['Genre', 'Console']])"
   ]
  },
  {
   "cell_type": "code",
   "execution_count": null,
   "metadata": {},
   "outputs": [],
   "source": []
  }
 ],
 "metadata": {
  "kernelspec": {
   "display_name": "Python 3",
   "language": "python",
   "name": "python3"
  },
  "language_info": {
   "codemirror_mode": {
    "name": "ipython",
    "version": 3
   },
   "file_extension": ".py",
   "mimetype": "text/x-python",
   "name": "python",
   "nbconvert_exporter": "python",
   "pygments_lexer": "ipython3",
   "version": "3.6.5"
  }
 },
 "nbformat": 4,
 "nbformat_minor": 2
}
